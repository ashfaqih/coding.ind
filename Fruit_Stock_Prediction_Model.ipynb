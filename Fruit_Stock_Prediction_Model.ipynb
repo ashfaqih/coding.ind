{
 "cells": [
  {
   "cell_type": "markdown",
   "metadata": {},
   "source": [
    "# Fruit Stock Prediction Model\n",
    "This notebook creates a simple prediction model for fruit stock recommendations based on historical data and seasonality."
   ]
  },
  {
   "cell_type": "code",
   "execution_count": 1,
   "metadata": {},
   "outputs": [],
   "source": [
    "import pandas as pd\n",
    "import numpy as np\n",
    "from sklearn.model_selection import train_test_split\n",
    "from sklearn.ensemble import RandomForestRegressor\n",
    "import joblib\n",
    "\n",
    "# Load the historical data\n",
    "# Assuming the data is exported from phpMyAdmin as CSV\n",
    "df = pd.read_csv('transaction_history.csv')\n",
    "\n",
    "# Convert date column\n",
    "df['tanggal_masuk'] = pd.to_datetime(df['tanggal_masuk'])\n",
    "df['month'] = df['tanggal_masuk'].dt.month\n",
    "\n",
    "# Dictionary for seasonal data\n",
    "SEASONAL_DATA = {\n",
    "    (1, 2, 3): ['Durian', 'Rambutan', 'Alpukat', 'Manggis', 'Sawo', 'Kedondong', \n",
    "                'Salak', 'Jambu Biji', 'Jeruk Nipis', 'Duku', 'Jeruk Bali', 'Sirsak'],\n",
    "    (4, 5, 6): ['Kesemek', 'Jeruk Manis', 'Salak', 'Jeruk Nipis', 'Duku', 'Jeruk Bali',\n",
    "                'Kedondong', 'Jambu Biji', 'Jambu Air'],\n",
    "    (7, 8, 9): ['Kesemek', 'Jeruk Manis', 'Belimbing', 'Melon', 'Jambu Mete',\n",
    "                'Jambu Bol', 'Mangga'],\n",
    "    (10, 11, 12): ['Durian', 'Manggis', 'Rambutan', 'Alpukat', 'Sawo', 'Jeruk Bali']\n",
    "}\n",
    "\n",
    "def check_seasonality(month, fruit_name):\n",
    "    for months, fruits in SEASONAL_DATA.items():\n",
    "        if month in months and fruit_name in fruits:\n",
    "            return 1\n",
    "    return 0\n",
    "\n",
    "# Add seasonality to dataframe\n",
    "df['is_seasonal'] = df.apply(lambda row: check_seasonality(row['month'], row['nama_buah']), axis=1)"
   ]
  },
  {
   "cell_type": "code",
   "execution_count": 2,
   "metadata": {},
   "outputs": [],
   "source": [
    "# Feature engineering\n",
    "def prepare_features(df):\n",
    "    # Calculate rolling averages\n",
    "    df_features = df.groupby('nama_buah').agg({\n",
    "        'stok_masuk': ['mean', 'std'],\n",
    "        'stok_keluar': ['mean', 'std'],\n",
    "        'is_seasonal': 'max'\n",
    "    }).reset_index()\n",
    "    \n",
    "    df_features.columns = ['nama_buah', 'avg_stok_masuk', 'std_stok_masuk',\n",
    "                          'avg_stok_keluar', 'std_stok_keluar', 'is_seasonal']\n",
    "    \n",
    "    return df_features\n",
    "\n",
    "# Prepare training data\n",
    "feature_df = prepare_features(df)\n",
    "\n",
    "# Target variable will be the optimal stock level\n",
    "feature_df['optimal_stock'] = feature_df.apply(\n",
    "    lambda x: np.ceil((x['avg_stok_masuk'] + x['avg_stok_keluar']) / 2 * \n",
    "                     (1.5 if x['is_seasonal'] else 0.8)), axis=1\n",
    ")\n",
    "\n",
    "# Prepare features and target\n",
    "X = feature_df[['avg_stok_masuk', 'std_stok_masuk', 'avg_stok_keluar', \n",
    "                'std_stok_keluar', 'is_seasonal']]\n",
    "y = feature_df['optimal_stock']\n",
    "\n",
    "# Split the data\n",
    "X_train, X_test, y_train, y_test = train_test_split(X, y, test_size=0.2, random_state=42)"
   ]
  },
  {
   "cell_type": "code",
   "execution_count": 3,
   "metadata": {},
   "outputs": [
    {
     "name": "stdout",
     "output_type": "stream",
     "text": [
      "Training R² score: 0.980\n",
      "Testing R² score: 0.529\n",
      "Mean Absolute Error: 4.99 units\n"
     ]
    }
   ],
   "source": [
    "# Train the model\n",
    "model = RandomForestRegressor(n_estimators=100, random_state=42)\n",
    "model.fit(X_train, y_train)\n",
    "\n",
    "# Evaluate the model\n",
    "train_score = model.score(X_train, y_train)\n",
    "test_score = model.score(X_test, y_test)\n",
    "\n",
    "print(f'Training R² score: {train_score:.3f}')\n",
    "print(f'Testing R² score: {test_score:.3f}')\n",
    "\n",
    "# Make predictions on test set\n",
    "y_pred = model.predict(X_test)\n",
    "\n",
    "# Calculate and print mean absolute error\n",
    "mae = np.mean(np.abs(y_pred - y_test))\n",
    "print(f'Mean Absolute Error: {mae:.2f} units')"
   ]
  },
  {
   "cell_type": "code",
   "execution_count": 4,
   "metadata": {},
   "outputs": [],
   "source": [
    "# Function to predict optimal stock for new data\n",
    "def predict_optimal_stock(nama_buah, month, historical_data):\n",
    "    # Filter data for the specific fruit\n",
    "    fruit_data = historical_data[historical_data['nama_buah'] == nama_buah].copy()\n",
    "    \n",
    "    # Check if we have historical data for this fruit\n",
    "    if len(fruit_data) == 0:\n",
    "        return None\n",
    "    \n",
    "    # Calculate features\n",
    "    avg_stok_masuk = fruit_data['stok_masuk'].mean()\n",
    "    std_stok_masuk = fruit_data['stok_masuk'].std()\n",
    "    avg_stok_keluar = fruit_data['stok_keluar'].mean()\n",
    "    std_stok_keluar = fruit_data['stok_keluar'].std()\n",
    "    \n",
    "    # Check seasonality\n",
    "    seasonal_value = check_seasonality(month, nama_buah)\n",
    "    \n",
    "    # Create feature array\n",
    "    features = np.array([[avg_stok_masuk, std_stok_masuk, \n",
    "                         avg_stok_keluar, std_stok_keluar, seasonal_value]])\n",
    "    \n",
    "    # Make prediction\n",
    "    prediction = model.predict(features)[0]\n",
    "    \n",
    "    return np.ceil(prediction)"
   ]
  },
  {
   "cell_type": "code",
   "execution_count": 5,
   "metadata": {},
   "outputs": [
    {
     "name": "stdout",
     "output_type": "stream",
     "text": [
      "Predicted optimal stock for durian in month 3: 60 units\n",
      "\n",
      "Stock predictions for month 1:\n",
      "durian: 60 units\n",
      "manggis: 69 units\n",
      "rambutan: 75 units\n",
      "alpukat: 56 units\n",
      "kesemek: 58 units\n",
      "jeruk_manis: 65 units\n",
      "salak: 77 units\n",
      "jeruk_nipis: 85 units\n",
      "belimbing: 69 units\n",
      "melon: 79 units\n"
     ]
    },
    {
     "name": "stderr",
     "output_type": "stream",
     "text": [
      "c:\\Users\\Faqih SA\\AppData\\Local\\Programs\\Python\\Python312\\Lib\\site-packages\\sklearn\\base.py:493: UserWarning: X does not have valid feature names, but RandomForestRegressor was fitted with feature names\n",
      "  warnings.warn(\n",
      "c:\\Users\\Faqih SA\\AppData\\Local\\Programs\\Python\\Python312\\Lib\\site-packages\\sklearn\\base.py:493: UserWarning: X does not have valid feature names, but RandomForestRegressor was fitted with feature names\n",
      "  warnings.warn(\n",
      "c:\\Users\\Faqih SA\\AppData\\Local\\Programs\\Python\\Python312\\Lib\\site-packages\\sklearn\\base.py:493: UserWarning: X does not have valid feature names, but RandomForestRegressor was fitted with feature names\n",
      "  warnings.warn(\n",
      "c:\\Users\\Faqih SA\\AppData\\Local\\Programs\\Python\\Python312\\Lib\\site-packages\\sklearn\\base.py:493: UserWarning: X does not have valid feature names, but RandomForestRegressor was fitted with feature names\n",
      "  warnings.warn(\n",
      "c:\\Users\\Faqih SA\\AppData\\Local\\Programs\\Python\\Python312\\Lib\\site-packages\\sklearn\\base.py:493: UserWarning: X does not have valid feature names, but RandomForestRegressor was fitted with feature names\n",
      "  warnings.warn(\n",
      "c:\\Users\\Faqih SA\\AppData\\Local\\Programs\\Python\\Python312\\Lib\\site-packages\\sklearn\\base.py:493: UserWarning: X does not have valid feature names, but RandomForestRegressor was fitted with feature names\n",
      "  warnings.warn(\n",
      "c:\\Users\\Faqih SA\\AppData\\Local\\Programs\\Python\\Python312\\Lib\\site-packages\\sklearn\\base.py:493: UserWarning: X does not have valid feature names, but RandomForestRegressor was fitted with feature names\n",
      "  warnings.warn(\n",
      "c:\\Users\\Faqih SA\\AppData\\Local\\Programs\\Python\\Python312\\Lib\\site-packages\\sklearn\\base.py:493: UserWarning: X does not have valid feature names, but RandomForestRegressor was fitted with feature names\n",
      "  warnings.warn(\n",
      "c:\\Users\\Faqih SA\\AppData\\Local\\Programs\\Python\\Python312\\Lib\\site-packages\\sklearn\\base.py:493: UserWarning: X does not have valid feature names, but RandomForestRegressor was fitted with feature names\n",
      "  warnings.warn(\n",
      "c:\\Users\\Faqih SA\\AppData\\Local\\Programs\\Python\\Python312\\Lib\\site-packages\\sklearn\\base.py:493: UserWarning: X does not have valid feature names, but RandomForestRegressor was fitted with feature names\n",
      "  warnings.warn(\n",
      "c:\\Users\\Faqih SA\\AppData\\Local\\Programs\\Python\\Python312\\Lib\\site-packages\\sklearn\\base.py:493: UserWarning: X does not have valid feature names, but RandomForestRegressor was fitted with feature names\n",
      "  warnings.warn(\n"
     ]
    }
   ],
   "source": [
    "# Save the model\n",
    "joblib.dump(model, 'rcmmodel.joblib')\n",
    "\n",
    "# Example usage\n",
    "# Test the prediction function\n",
    "example_fruit = df['nama_buah'].iloc[0]\n",
    "example_month = 3\n",
    "predicted_stock = predict_optimal_stock(example_fruit, example_month, df)\n",
    "print(f'Predicted optimal stock for {example_fruit} in month {example_month}: {predicted_stock:.0f} units')\n",
    "\n",
    "# Create a sample prediction for all fruits in next month\n",
    "next_month = (df['month'].max() % 12) + 1\n",
    "print(f'\\nStock predictions for month {next_month}:')\n",
    "for fruit in df['nama_buah'].unique():\n",
    "    pred = predict_optimal_stock(fruit, next_month, df)\n",
    "    if pred is not None:\n",
    "        print(f'{fruit}: {pred:.0f} units')"
   ]
  }
 ],
 "metadata": {
  "kernelspec": {
   "display_name": "Python 3",
   "language": "python",
   "name": "python3"
  },
  "language_info": {
   "codemirror_mode": {
    "name": "ipython",
    "version": 3
   },
   "file_extension": ".py",
   "mimetype": "text/x-python",
   "name": "python",
   "nbconvert_exporter": "python",
   "pygments_lexer": "ipython3",
   "version": "3.12.4"
  }
 },
 "nbformat": 4,
 "nbformat_minor": 4
}
