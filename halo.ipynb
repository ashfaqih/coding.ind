{
    "cells": [
     {
      "cell_type": "markdown",
      "metadata": {},
      "source": [
       "# Fruit Stock Prediction Model (Multi-Unit Version)\n",
       "Notebook ini merupakan versi yang telah ditingkatkan untuk menangani berbagai jenis satuan (kg, box, pcs) dalam prediksi stok buah."
      ]
     },
     {
      "cell_type": "code",
      "execution_count": 1,
      "metadata": {},
      "outputs": [],
      "source": [
       "import pandas as pd\n",
       "import numpy as np\n",
       "from sklearn.model_selection import train_test_split\n",
       "from sklearn.ensemble import RandomForestRegressor\n",
       "import joblib\n",
       "\n",
       "# Load the historical data\n",
       "df = pd.read_csv('transaction_history.csv')\n",
       "\n",
       "# Convert date column\n",
       "df['tanggal_masuk'] = pd.to_datetime(df['tanggal_masuk'])\n",
       "df['month'] = df['tanggal_masuk'].dt.month\n",
       "\n",
       "# Dictionary for seasonal data\n",
       "SEASONAL_DATA = {\n",
       "    (1, 2, 3): ['Durian', 'Rambutan', 'Alpukat', 'Manggis', 'Sawo', 'Kedondong', \n",
       "                'Salak', 'Jambu Biji', 'Jeruk Nipis', 'Duku', 'Jeruk Bali', 'Sirsak'],\n",
       "    (4, 5, 6): ['Kesemek', 'Jeruk Manis', 'Salak', 'Jeruk Nipis', 'Duku', 'Jeruk Bali',\n",
       "                'Kedondong', 'Jambu Biji', 'Jambu Air'],\n",
       "    (7, 8, 9): ['Kesemek', 'Jeruk Manis', 'Belimbing', 'Melon', 'Jambu Mete',\n",
       "                'Jambu Bol', 'Mangga'],\n",
       "    (10, 11, 12): ['Durian', 'Manggis', 'Rambutan', 'Alpukat', 'Sawo', 'Jeruk Bali']\n",
       "}\n",
       "\n",
       "def check_seasonality(month, fruit_name):\n",
       "    for months, fruits in SEASONAL_DATA.items():\n",
       "        if month in months and fruit_name in fruits:\n",
       "            return 1\n",
       "    return 0\n",
       "\n",
       "# Add seasonality to dataframe\n",
       "df['is_seasonal'] = df.apply(lambda row: check_seasonality(row['month'], row['nama_buah']), axis=1)"
      ]
     },
     {
      "cell_type": "markdown",
      "metadata": {},
      "source": [
       "## Feature Engineering\n",
       "Pada bagian ini, kita akan memproses data dengan mempertimbangkan satuan yang berbeda-beda."
      ]
     },
     {
      "cell_type": "code",
      "execution_count": 2,
      "metadata": {},
      "outputs": [],
      "source": [
       "def prepare_features(df):\n",
       "    # Group data by fruit name and unit\n",
       "    df_features = df.groupby(['nama_buah', 'satuan']).agg({\n",
       "        'stok_masuk': ['mean', 'std'],\n",
       "        'stok_keluar': ['mean', 'std'],\n",
       "        'is_seasonal': 'max'\n",
       "    }).reset_index()\n",
       "    \n",
       "    # Flatten column names\n",
       "    df_features.columns = ['nama_buah', 'satuan', 'avg_stok_masuk', 'std_stok_masuk',\n",
       "                          'avg_stok_keluar', 'std_stok_keluar', 'is_seasonal']\n",
       "    \n",
       "    return df_features\n",
       "\n",
       "# Prepare features\n",
       "feature_df = prepare_features(df)\n",
       "\n",
       "# Create separate dataframes for each unit type\n",
       "unit_dfs = {}\n",
       "for unit in feature_df['satuan'].unique():\n",
       "    unit_df = feature_df[feature_df['satuan'] == unit].copy()\n",
       "    \n",
       "    # Calculate optimal stock for this unit type\n",
       "    unit_df['optimal_stock'] = unit_df.apply(\n",
       "        lambda x: np.ceil((x['avg_stok_masuk'] + x['avg_stok_keluar']) / 2 * \n",
       "                         (1.5 if x['is_seasonal'] else 0.8)), axis=1\n",
       "    )\n",
       "    \n",
       "    unit_dfs[unit] = unit_df"
      ]
     },
     {
      "cell_type": "markdown",
      "metadata": {},
      "source": [
       "## Model Training\n",
       "Kita akan membuat model terpisah untuk setiap jenis satuan."
      ]
     },
     {
      "cell_type": "code",
      "execution_count": 3,
      "metadata": {},
      "outputs": [
       {
        "name": "stdout",
        "output_type": "stream",
        "text": [
         "\nPerformance metrics for kg model:\n",
         "Training R² score: 0.980\n",
         "Testing R² score: 0.529\n",
         "Mean Absolute Error: 4.99 units\n"
        ]
       }
      ],
      "source": [
       "# Train separate models for each unit type\n",
       "models = {}\n",
       "metrics = {}\n",
       "\n",
       "for unit, unit_df in unit_dfs.items():\n",
       "    X = unit_df[['avg_stok_masuk', 'std_stok_masuk', 'avg_stok_keluar', \n",
       "                 'std_stok_keluar', 'is_seasonal']]\n",
       "    y = unit_df['optimal_stock']\n",
       "    \n",
       "    # Split the data\n",
       "    X_train, X_test, y_train, y_test = train_test_split(X, y, test_size=0.2, random_state=42)\n",
       "    \n",
       "    # Train model\n",
       "    model = RandomForestRegressor(n_estimators=100, random_state=42)\n",
       "    model.fit(X_train, y_train)\n",
       "    \n",
       "    # Store model\n",
       "    models[unit] = model\n",
       "    \n",
       "    # Calculate metrics\n",
       "    train_score = model.score(X_train, y_train)\n",
       "    test_score = model.score(X_test, y_test)\n",
       "    y_pred = model.predict(X_test)\n",
       "    mae = np.mean(np.abs(y_pred - y_test))\n",
       "    \n",
       "    metrics[unit] = {\n",
       "        'train_score': train_score,\n",
       "        'test_score': test_score,\n",
       "        'mae': mae\n",
       "    }\n",
       "    \n",
       "    print(f'\\nPerformance metrics for {unit} model:')\n",
       "    print(f'Training R² score: {train_score:.3f}')\n",
       "    print(f'Testing R² score: {test_score:.3f}')\n",
       "    print(f'Mean Absolute Error: {mae:.2f} units')"
      ]
     },
     {
      "cell_type": "markdown",
      "metadata": {},
      "source": [
       "## Prediction Function"
      ]
     },
     {
      "cell_type": "code",
      "execution_count": 4,
      "metadata": {},
      "outputs": [],
      "source": [
       "def predict_optimal_stock(nama_buah, month, satuan, historical_data, models):\n",
       "    if satuan not in models:\n",
       "        return None, f\"No model available for unit type: {satuan}\"\n",
       "        \n",
       "    # Filter data for the specific fruit and unit\n",
       "    fruit_data = historical_data[\n",
       "        (historical_data['nama_buah'] == nama_buah) & \n",
       "        (historical_data['satuan'] == satuan)\n",
       "    ].copy()\n",
       "    \n",
       "    if len(fruit_data) == 0:\n",
       "        return None, f\"No historical data for {nama_buah} in {satuan}\"\n",
       "    \n",
       "    # Calculate features\n",
       "    avg_stok_masuk = fruit_data['stok_masuk'].mean()\n",
       "    std_stok_masuk = fruit_data['stok_masuk'].std()\n",
       "    avg_stok_keluar = fruit_data['stok_keluar'].mean()\n",
       "    std_stok_keluar = fruit_data['stok_keluar'].std()\n",
       "    \n",
       "    seasonal_value = check_seasonality(month, nama_buah)\n",
       "    \n",
       "    # Create feature array\n",
       "    features = np.array([[avg_stok_masuk, std_stok_masuk, \n",
       "                         avg_stok_keluar, std_stok_keluar, seasonal_value]])\n",
       "    \n",
       "    # Make prediction using appropriate model\n",
       "    prediction = models[satuan].predict(features)[0]\n",
       "    \n",
       "    return np.ceil(prediction), None"
      ]
     },
     {
      "cell_type": "markdown",
      "metadata": {},
      "source": [
       "## Save Models"
      ]
     },
     {
      "cell_type": "code",
      "execution_count": 5,
      "metadata": {},
      "outputs": [],
      "source": [
       "# Save models\n",
       "joblib.dump(models, 'rcmmodel_multi_unit.joblib')"
      ]
     },
     {
      "cell_type": "markdown",
      "metadata": {},
      "source": [
       "## Test Predictions"
      ]
     },
     {
      "cell_type": "code",
      "execution_count": 6,
      "metadata": {},
      "outputs": [
       {
        "name": "stdout",
        "output_type": "stream",
        "text": [
         "\nStock predictions for month 1:\n",
         "durian (kg): 60 units\n",
         "manggis (kg): 69 units\n",
         "rambutan (kg): 75 units\n",
         "alpukat (kg): 56 units\n",
         "kesemek (kg): 58 units\n",
         "jeruk_manis (kg): 65 units\n",
         "salak (kg): 77 units\n",
         "jeruk_nipis (kg): 85 units\n",
         "belimbing (kg): 69 units\n",
         "melon (kg): 79 units\n"
        ]
       }
      ],
      "source": [
       "# Test predictions for next month\n",
       "next_month = (df['month'].max() % 12) + 1\n",
       "print(f'\\nStock predictions for month {next_month}:')\n",
       "\n",
       "for fruit in df['nama_buah'].unique():\n",
       "    for unit in df['satuan'].unique():\n",
       "        pred, error = predict_optimal_stock(fruit, next_month, unit, df, models)\n",
       "        if pred is not None:\n",
       "            print(f'{fruit} ({unit}): {pred:.0f} units')\n",
       "        elif error:\n",
       "            print(f'{fruit} ({unit}): {error}')"
      ]
     }
    ],
    "metadata": {
     "kernelspec": {
      "display_name": "Python 3",
      "language": "python",
      "name": "python3"
     },
     "language_info": {
      "codemirror_mode": {
       "name": "ipython",
       "version": 3
      },
      "file_extension": ".py",
      "mimetype": "text/x-python",
      "name": "python",
      "nbconvert_exporter": "python",
      "pygments_lexer": "ipython3",
      "version": "3.8.8"
     }
    },
    "nbformat": 4,
    "nbformat_minor": 4
   }